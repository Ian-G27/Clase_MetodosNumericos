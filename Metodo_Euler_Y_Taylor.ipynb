{
  "nbformat": 4,
  "nbformat_minor": 0,
  "metadata": {
    "colab": {
      "provenance": [],
      "authorship_tag": "ABX9TyPaZ+iU5jStvprtMBS39+yR",
      "include_colab_link": true
    },
    "kernelspec": {
      "name": "python3",
      "display_name": "Python 3"
    },
    "language_info": {
      "name": "python"
    }
  },
  "cells": [
    {
      "cell_type": "markdown",
      "metadata": {
        "id": "view-in-github",
        "colab_type": "text"
      },
      "source": [
        "<a href=\"https://colab.research.google.com/github/Ian-G27/Clase_MetodosNumericos/blob/main/Metodo_Euler_Y_Taylor.ipynb\" target=\"_parent\"><img src=\"https://colab.research.google.com/assets/colab-badge.svg\" alt=\"Open In Colab\"/></a>"
      ]
    },
    {
      "cell_type": "markdown",
      "source": [
        "# Metodo de Euler\n",
        "\n",
        "Programar en un cuaderno de Jupyter el algoritmo 5.1 de la página 199 del Burden de manera que imprima una tabla con el error absoluto (cuando sea posible). Usar como prueba el ejemplo de Ilustración de la página 199 y la tabla 5.1 de la página 201."
      ],
      "metadata": {
        "id": "TWtYhCDucCTz"
      }
    },
    {
      "cell_type": "code",
      "execution_count": 4,
      "metadata": {
        "id": "7W9hb63tymd_",
        "colab": {
          "base_uri": "https://localhost:8080/"
        },
        "outputId": "85c1d51e-8065-41b8-9eba-457be405ea18"
      },
      "outputs": [
        {
          "output_type": "stream",
          "name": "stdout",
          "text": [
            " t_i  w_i (Euler)   y(t_i)  |w_i - y(t_i)|\n",
            " 0.0     0.500000 0.500000        0.000000\n",
            " 0.2     0.800000 0.829299        0.029299\n",
            " 0.4     1.152000 1.214088        0.062088\n",
            " 0.6     1.550400 1.648941        0.098541\n",
            " 0.8     1.988480 2.127230        0.138750\n",
            " 1.0     2.458176 2.640859        0.182683\n",
            " 1.2     2.949811 3.179942        0.230130\n",
            " 1.4     3.451773 3.732400        0.280627\n",
            " 1.6     3.950128 4.283484        0.333356\n",
            " 1.8     4.428154 4.815176        0.387023\n",
            " 2.0     4.865785 5.305472        0.439687\n"
          ]
        }
      ],
      "source": [
        "import sympy as sp\n",
        "import pandas as pd\n",
        "import numpy as np\n",
        "\n",
        "def euler_tabla():\n",
        "    t, y = sp.symbols('t y')\n",
        "    #Ecuacion diferencial y solucion exacta\n",
        "    f_sym = y - t**2 + 1\n",
        "    y_exacta = (t + 1)**2 - 0.5 * sp.exp(t)\n",
        "    #Funciones que son evaluables\n",
        "    f = sp.lambdify((t, y), f_sym, 'numpy')\n",
        "    y_real = sp.lambdify(t, y_exacta, 'numpy')\n",
        "    #Parametros del problema, usando el ejemplo del libro\n",
        "    a, b = 0, 2\n",
        "    N = 10\n",
        "    h = (b - a) / N\n",
        "    t_vals = [a]\n",
        "    w_vals = [0.5]\n",
        "    y_vals = [y_real(a)]\n",
        "    error_abs = [abs(0.5 - y_real(a))]\n",
        "    #Iteraciones de Euler\n",
        "    t_i = a\n",
        "    w_i = 0.5\n",
        "\n",
        "    for i in range(1, N+1):\n",
        "        w_i = w_i + h * f(t_i, w_i)\n",
        "        t_i = a + i * h\n",
        "        t_vals.append(round(t_i, 1))\n",
        "        w_vals.append(w_i)\n",
        "        y_i = y_real(t_i)\n",
        "        y_vals.append(y_i)\n",
        "        error_abs.append(abs(w_i - y_i))\n",
        "    #Imprimiendo los datos de la tabla\n",
        "    tabla = pd.DataFrame({\n",
        "        't_i': t_vals,\n",
        "        'w_i (Euler)': w_vals,\n",
        "        'y(t_i)': y_vals,\n",
        "        '|w_i - y(t_i)|': error_abs\n",
        "    })\n",
        "    return tabla\n",
        "#Por ultimo se ejecuta y muestra la tabla\n",
        "tabla = euler_tabla()\n",
        "print(tabla.to_string(index=False))"
      ]
    },
    {
      "cell_type": "markdown",
      "source": [
        "# Explicacion del codigo Metodo de euler\n",
        "\n"
      ],
      "metadata": {
        "id": "JlGuF7XuqmaG"
      }
    },
    {
      "cell_type": "markdown",
      "source": [
        "Librerias importadas:\n",
        "```\n",
        "import sympy as sp\n",
        "import pandas as pd\n",
        "import numpy as np\n",
        "\n",
        "```\n",
        "* sympy: para trabajar con funciones simbólicas.\n",
        "\n",
        "* pandas: para crear una tabla con los resultados.\n",
        "\n",
        "* numpy: se usa para cálculos numéricos rápidos.\n",
        "\n",
        "\n"
      ],
      "metadata": {
        "id": "TED_4stqqyGD"
      }
    },
    {
      "cell_type": "markdown",
      "source": [
        "Definicion de la funcion principal:\n",
        "```\n",
        "def euler_tabla():\n",
        "\n",
        "```\n",
        "Se define una función que cuando se llama, calcula la tabla de aproximaciones por el método de Euler.\n"
      ],
      "metadata": {
        "id": "rtfp9efvrHkO"
      }
    },
    {
      "cell_type": "markdown",
      "source": [
        "Definicion simbolica del problema:\n",
        "\n",
        "\n",
        "```\n",
        "t, y = sp.symbols('t y')\n",
        "f_sym = y - t**2 + 1\n",
        "y_exacta = (t + 1)**2 - 0.5 * sp.exp(t)\n",
        "\n",
        "```\n",
        "Se define los simbolos t,y\n"
      ],
      "metadata": {
        "id": "k5kCuTtSrbs5"
      }
    },
    {
      "cell_type": "markdown",
      "source": [
        "Convierte las expresiones simbólicas a funciones evaluables:\n",
        "\n",
        "```\n",
        "f = sp.lambdify((t, y), f_sym, 'numpy')\n",
        "y_real = sp.lambdify(t, y_exacta, 'numpy')\n",
        "\n",
        "```\n",
        "Convierte las expresiones simbólicas a funciones que aceptan valores numéricos(con ayuda de numpy).\n"
      ],
      "metadata": {
        "id": "XNrv8U5Or0hi"
      }
    },
    {
      "cell_type": "markdown",
      "source": [
        "Planteando los parámetros del problema:\n",
        "\n",
        "```\n",
        "a, b = 0, 2\n",
        "N = 10\n",
        "h = (b - a) / N\n",
        "\n",
        "```\n",
        "\n"
      ],
      "metadata": {
        "id": "2ZoVN8aGsGcW"
      }
    },
    {
      "cell_type": "markdown",
      "source": [
        "Inicialización de listas para la tabla:\n",
        "\n",
        "```\n",
        "t_vals = [a]\n",
        "w_vals = [0.5]\n",
        "y_vals = [y_real(a)]\n",
        "error_abs = [abs(0.5 - y_real(a))]\n",
        "\n",
        "```\n",
        "* t_vals: tiempos.\n",
        "\n",
        "* w_vals: soluciones por Euler.\n",
        "\n",
        "* y_vals: soluciones exactas.\n",
        "\n",
        "* error_abs: error absoluto en cada paso.\n",
        "\n",
        "\n"
      ],
      "metadata": {
        "id": "WZmHxTnSsT10"
      }
    },
    {
      "cell_type": "markdown",
      "source": [
        "Iteración del método de Euler:\n",
        "\n",
        "```\n",
        "t_i = a\n",
        "w_i = 0.5\n",
        "for i in range(1, N+1):\n",
        "    w_i = w_i + h * f(t_i, w_i)  # Fórmula de Euler\n",
        "    t_i = a + i * h\n",
        "    ...\n",
        "\n",
        "```\n",
        "* Se actuliza w_i+1\n",
        "\n",
        "* Se calcula y(tᵢ) y se guarda junto al error\n",
        "\n"
      ],
      "metadata": {
        "id": "XQcFDJNTsjsc"
      }
    },
    {
      "cell_type": "markdown",
      "source": [
        "Por ultimo se crea la tabla:\n",
        "\n",
        "```\n",
        "tabla = pd.DataFrame({\n",
        "    't_i': t_vals,\n",
        "    'w_i (Euler)': w_vals,\n",
        "    'y(t_i)': y_vals,\n",
        "    '|w_i - y(t_i)|': error_abs\n",
        "})\n",
        "\n",
        "```\n",
        "\n"
      ],
      "metadata": {
        "id": "cGwoS_wktE7A"
      }
    },
    {
      "cell_type": "markdown",
      "source": [
        "# Metodo de la serie de taylor de orden 2\n",
        "\n",
        "Ajustar el código elaborado anteriormente para implementar el método de la Serie de Taylor de orden n usando la fórmula 5.17 (página 206) y usar el ejemplo 1 de esa página como prueba\n",
        "\n",
        "![image.png](data:image/png;base64,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)"
      ],
      "metadata": {
        "id": "ZcwxCo6icO13"
      }
    },
    {
      "cell_type": "code",
      "source": [
        "import sympy as sp\n",
        "import pandas as pd\n",
        "import numpy as np\n",
        "\n",
        "def metodo_taylor_orden2_libro(f_sym, y_exacta, t0, w0, a, b, N):\n",
        "    t, y = sp.symbols('t y')\n",
        "\n",
        "    # Derivada de orden 1 de f(t, y)\n",
        "    df = sp.diff(f_sym, t) + sp.diff(f_sym, y) * f_sym\n",
        "\n",
        "    #Se convierten funciones a funciones numericas\n",
        "    f = sp.lambdify((t, y), f_sym, 'numpy')\n",
        "    f_prime = sp.lambdify((t, y), df, 'numpy')\n",
        "    y_real = sp.lambdify(t, y_exacta, 'numpy')\n",
        "    h = (b - a) / N\n",
        "    t_vals = [round(t0 + i * h, 1) for i in range(N + 1)]\n",
        "    w_vals = []\n",
        "    errores = []\n",
        "\n",
        "    t_i = t0\n",
        "    w_i = w0\n",
        "\n",
        "    for i in range(N + 1):\n",
        "        y_i = float(y_real(t_i))\n",
        "        w_vals.append(w_i)\n",
        "        errores.append(abs(y_i - w_i))\n",
        "        # Metodo de Taylor orden 2\n",
        "        if i < N:\n",
        "            T2 = f(t_i, w_i) + (h / 2) * f_prime(t_i, w_i)\n",
        "            w_i += h * T2\n",
        "            t_i += h\n",
        "\n",
        "    tabla = pd.DataFrame({\n",
        "        'tᵢ': t_vals,\n",
        "        'Orden 2 de Taylor': [round(w, 6) for w in w_vals],\n",
        "        '|y(tᵢ) - wᵢ|': [round(e, 6) for e in errores]\n",
        "    })\n",
        "\n",
        "    return tabla\n",
        "#Se Define la función f(t, y) y solución exacta\n",
        "t, y = sp.symbols('t y')\n",
        "f_sym = y - t**2 + 1\n",
        "y_exacta = (t + 1)**2 - 0.5 * sp.exp(t)\n",
        "#Parametros del ejemplo del libro\n",
        "t0 = 0\n",
        "w0 = 0.5\n",
        "a = 0\n",
        "b = 2\n",
        "N = 10\n",
        "#Se ejecuta\n",
        "tabla = metodo_taylor_orden2_libro(f_sym, y_exacta, t0, w0, a, b, N)\n",
        "\n",
        "#Mostrando la tabla\n",
        "print(tabla.to_string(index=False))"
      ],
      "metadata": {
        "colab": {
          "base_uri": "https://localhost:8080/"
        },
        "id": "dXLryDIzccsK",
        "outputId": "96672660-7387-45ad-ca31-d13ac5eb30b6"
      },
      "execution_count": 5,
      "outputs": [
        {
          "output_type": "stream",
          "name": "stdout",
          "text": [
            " tᵢ  Orden 2 de Taylor  |y(tᵢ) - wᵢ|\n",
            "0.0           0.500000      0.000000\n",
            "0.2           0.830000      0.000701\n",
            "0.4           1.215800      0.001712\n",
            "0.6           1.652076      0.003135\n",
            "0.8           2.132333      0.005103\n",
            "1.0           2.648646      0.007787\n",
            "1.2           3.191348      0.011406\n",
            "1.4           3.748645      0.016245\n",
            "1.6           4.306146      0.022663\n",
            "1.8           4.846299      0.031122\n",
            "2.0           5.347684      0.042212\n"
          ]
        }
      ]
    },
    {
      "cell_type": "markdown",
      "source": [
        "# Método de Taylor de orden 4\n"
      ],
      "metadata": {
        "id": "NaLUdNHCc642"
      }
    },
    {
      "cell_type": "code",
      "source": [
        "import sympy as sp\n",
        "import pandas as pd\n",
        "import numpy as np\n",
        "\n",
        "def metodo_taylor_orden4_libro(f_sym, y_exacta, t0, w0, a, b, N):\n",
        "    t, y = sp.symbols('t y')\n",
        "\n",
        "    #Se Calculan las derivadas de f(t, y)\n",
        "    derivadas = [f_sym]\n",
        "    for i in range(1, 4):  # orden 4 -> derivadas hasta 3ra\n",
        "        derivadas.append(sp.diff(derivadas[-1], t) + sp.diff(derivadas[-1], y) * f_sym)\n",
        "\n",
        "    #Se convierten funciones evaluables numericamente\n",
        "    deriv_funcs = [sp.lambdify((t, y), df, 'numpy') for df in derivadas]\n",
        "    y_real = sp.lambdify(t, y_exacta, 'numpy')\n",
        "    h = (b - a) / N\n",
        "    t_vals = [round(t0 + i * h, 1) for i in range(N + 1)]\n",
        "    w_vals = []\n",
        "    errores = []\n",
        "\n",
        "    t_i = t0\n",
        "    w_i = w0\n",
        "\n",
        "    for i in range(N + 1):\n",
        "        y_i = float(y_real(t_i))\n",
        "        w_vals.append(round(w_i, 6))\n",
        "        errores.append(round(abs(y_i - w_i), 6))\n",
        "\n",
        "        if i < N:\n",
        "            #Terminos de la serie de Taylor de orden 4\n",
        "            T4 = (\n",
        "                deriv_funcs[0](t_i, w_i)\n",
        "                + (h / 2) * deriv_funcs[1](t_i, w_i)\n",
        "                + (h**2 / 6) * deriv_funcs[2](t_i, w_i)\n",
        "                + (h**3 / 24) * deriv_funcs[3](t_i, w_i)\n",
        "            )\n",
        "            w_i += h * T4\n",
        "            t_i += h\n",
        "\n",
        "    tabla = pd.DataFrame({\n",
        "        'tᵢ': t_vals,\n",
        "        'Orden 4 de Taylor': w_vals,\n",
        "        '|y(tᵢ) - wᵢ|': errores\n",
        "    })\n",
        "\n",
        "    return tabla\n",
        "#Definiendo la función y solución exacta\n",
        "t, y = sp.symbols('t y')\n",
        "f_sym = y - t**2 + 1\n",
        "y_exacta = (t + 1)**2 - 0.5 * sp.exp(t)\n",
        "\n",
        "#Los parametros que se utilizan\n",
        "t0 = 0\n",
        "w0 = 0.5\n",
        "a = 0\n",
        "b = 2\n",
        "N = 10\n",
        "\n",
        "tabla = metodo_taylor_orden4_libro(f_sym, y_exacta, t0, w0, a, b, N)\n",
        "#Por ultimo se muestra la tabla\n",
        "print(tabla.to_string(index=False))"
      ],
      "metadata": {
        "colab": {
          "base_uri": "https://localhost:8080/"
        },
        "id": "f5ifNMsbc5gW",
        "outputId": "79ed22d2-b249-4e1c-d750-e2aade8a6c49"
      },
      "execution_count": 6,
      "outputs": [
        {
          "output_type": "stream",
          "name": "stdout",
          "text": [
            " tᵢ  Orden 4 de Taylor  |y(tᵢ) - wᵢ|\n",
            "0.0           0.500000      0.000000\n",
            "0.2           0.829300      0.000001\n",
            "0.4           1.214091      0.000003\n",
            "0.6           1.648947      0.000006\n",
            "0.8           2.127240      0.000010\n",
            "1.0           2.640874      0.000015\n",
            "1.2           3.179964      0.000022\n",
            "1.4           3.732432      0.000032\n",
            "1.6           4.283529      0.000045\n",
            "1.8           4.815238      0.000061\n",
            "2.0           5.305555      0.000083\n"
          ]
        }
      ]
    },
    {
      "cell_type": "markdown",
      "source": [
        "#Explicacion del codigo Metodo de taylor orden 2 y 4\n",
        "\n"
      ],
      "metadata": {
        "id": "jjUiOpuajMXw"
      }
    },
    {
      "cell_type": "markdown",
      "source": [
        "Librerias importadas\n",
        "\n",
        "```\n",
        "import sympy as sp\n",
        "import pandas as pd\n",
        "```\n",
        "* Importamos sympy para derivar simbólicamente.\n",
        "\n",
        "* Importamos pandas para construir la tabla.\n"
      ],
      "metadata": {
        "id": "TQxsBpNcjz5b"
      }
    },
    {
      "cell_type": "markdown",
      "source": [
        "Creacion de la funcion:\n",
        "\n",
        "```\n",
        "def metodo_taylor_orden4_libro(f_sym, y_exacta, t0, w0, a, b, N):\n",
        "```\n",
        "\n",
        "* f_sym: función simbólica $f(t,y)$\n",
        "\n",
        "* y_exacta: solución exacta simbólica (para calcular errores)\n",
        "\n",
        "* t0: valor inicial de $t$\n",
        "\n",
        "* w0: valor inicial de $y$\n",
        "\n",
        "* a, b: intervalo\n",
        "\n",
        "* N: número de pasos.\n"
      ],
      "metadata": {
        "id": "H0ysmk8CkBNg"
      }
    },
    {
      "cell_type": "markdown",
      "source": [
        "# Declaramos los simbolos para sympy\n",
        "\n",
        "```\n",
        "    t, y = sp.symbols('t y')\n",
        "\n",
        "```"
      ],
      "metadata": {
        "id": "I-vW8zsrkzFK"
      }
    },
    {
      "cell_type": "markdown",
      "source": [
        "Calculamos las derivadas de f con la fórmula de derivadas totales:\n",
        "```\n",
        "    derivadas = [f_sym]\n",
        "    for i in range(1, 4):\n",
        "        derivadas.append(sp.diff(derivadas[-1], t) + sp.diff(derivadas[-1], y) * f_sym)\n",
        "\n",
        "```\n",
        "\n",
        "Esto se repite hasta obtener $f´, f´´ , f´´´$\n"
      ],
      "metadata": {
        "id": "TMgpZ5BqlOnz"
      }
    },
    {
      "cell_type": "markdown",
      "source": [
        "Aqui convertimos las expresiones simbólicas a funciones de Python para evaluarlas con números y también convertimos la solución exacta.\n",
        "\n",
        "\n",
        "```\n",
        "    deriv_funcs = [sp.lambdify((t, y), df, 'numpy') for df in derivadas]\n",
        "    y_real = sp.lambdify(t, y_exacta, 'numpy')\n",
        "\n",
        "```"
      ],
      "metadata": {
        "id": "MmxpTusMl6o9"
      }
    },
    {
      "cell_type": "markdown",
      "source": [
        "* Aqui se calcula el tamaño del paso h\n",
        "\n",
        "* Tambien se crean listas para almacenar los valores de tᵢ, wᵢ y el error absoluto.\n",
        "```\n",
        "    h = (b - a) / N\n",
        "    t_vals = [round(t0 + i * h, 1) for i in range(N + 1)]\n",
        "    w_vals = []\n",
        "    errores = []\n",
        "\n",
        "```"
      ],
      "metadata": {
        "id": "cww3cA7pmeeH"
      }
    },
    {
      "cell_type": "markdown",
      "source": [
        "# En este paso:\n",
        "\n",
        "```\n",
        "    for i in range(N + 1):\n",
        "        y_i = float(y_real(t_i))\n",
        "        w_vals.append(round(w_i, 6))\n",
        "        errores.append(round(abs(y_i - w_i), 6))\n",
        "\n",
        "```\n",
        "\n",
        "* Evaluamos la solución exacta en tᵢ\n",
        "* Guardamos wᵢ redondeado a 6 cifras,\n",
        "* Calculamos y guardamos el error absoluto."
      ],
      "metadata": {
        "id": "jH1MdZM2nIa8"
      }
    },
    {
      "cell_type": "markdown",
      "source": [
        "Se calcula la formula de taylor de orden 2 o 4\n",
        "```\n",
        "        if i < N:\n",
        "            T4 = (\n",
        "                deriv_funcs[0](t_i, w_i)\n",
        "                + (h / 2) * deriv_funcs[1](t_i, w_i)\n",
        "                + (h**2 / 6) * deriv_funcs[2](t_i, w_i)\n",
        "                + (h**3 / 24) * deriv_funcs[3](t_i, w_i)\n",
        "            )\n",
        "            w_i += h * T4\n",
        "            t_i += h\n",
        "\n",
        "```\n",
        "\n",
        "Se va actualizando el nuevo valor de wᵢ y tᵢ\n"
      ],
      "metadata": {
        "id": "uii7a4uQoGPE"
      }
    },
    {
      "cell_type": "markdown",
      "source": [
        "Por ultimo se imprime una tabla:\n",
        "```\n",
        "    tabla = pd.DataFrame({\n",
        "        'tᵢ': t_vals,\n",
        "        'Orden 4 de Taylor': w_vals,\n",
        "        '|y(tᵢ) - wᵢ|': errores\n",
        "    })\n",
        "\n",
        "    return tabla\n",
        "\n",
        "```\n",
        "\n"
      ],
      "metadata": {
        "id": "yRQ8MM4GoyvF"
      }
    }
  ]
}