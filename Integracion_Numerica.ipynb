{
  "nbformat": 4,
  "nbformat_minor": 0,
  "metadata": {
    "colab": {
      "provenance": [],
      "authorship_tag": "ABX9TyMrnwOPOwFL13vT/WZclht5",
      "include_colab_link": true
    },
    "kernelspec": {
      "name": "python3",
      "display_name": "Python 3"
    },
    "language_info": {
      "name": "python"
    }
  },
  "cells": [
    {
      "cell_type": "markdown",
      "metadata": {
        "id": "view-in-github",
        "colab_type": "text"
      },
      "source": [
        "<a href=\"https://colab.research.google.com/github/Ian-G27/Clase_MetodosNumericos/blob/main/Integracion_Numerica.ipynb\" target=\"_parent\"><img src=\"https://colab.research.google.com/assets/colab-badge.svg\" alt=\"Open In Colab\"/></a>"
      ]
    },
    {
      "cell_type": "markdown",
      "source": [
        "  # Integracioin numerica\n",
        "\n",
        "  Escribir un codigo en Python que implemente en sympy que implemente las formulas de Newton-Cotes cerradas:\n",
        "\n",
        "  1. Regla Trapezoidal\n",
        "  2. Regla de Simpson\n",
        "  3. Regla de los tres octavos de Simpson\n",
        "  4. n=4\n",
        "\n",
        "  Y tambien las formulas de Newton-Cotes abiertas de n=0 a n=3"
      ],
      "metadata": {
        "id": "apU5uIT6R297"
      }
    },
    {
      "cell_type": "code",
      "execution_count": 2,
      "metadata": {
        "id": "JhY0VxZARsmL",
        "colab": {
          "base_uri": "https://localhost:8080/"
        },
        "outputId": "2baa92da-4929-4935-f9e2-46d7dad0dc4f"
      },
      "outputs": [
        {
          "output_type": "stream",
          "name": "stdout",
          "text": [
            "Valor real: 0.29289322\n",
            "\n",
            "Reglas cerradas:\n",
            "Trapezoidal: 0.27768018\n",
            "Simpson 1/3: 0.29293264\n",
            "Simpson 3/8: 0.29291070\n",
            "Newton-Cotes cerrada n=4: 0.29289318\n",
            "\n",
            "Newton-Cotes abiertas:\n",
            "n=0: 0.30055886\n",
            "n=1: 0.29798754\n",
            "n=2: 0.29285866\n",
            "n=3: 0.29286923\n"
          ]
        }
      ],
      "source": [
        "import sympy as sp\n",
        "import numpy as np\n",
        "\n",
        "x = sp.Symbol('x')\n",
        "f = sp.sin(x)\n",
        "f_num = sp.lambdify(x, f, modules='numpy')\n",
        "\n",
        "# Formulas cerradas\n",
        "def regla_trapezoidal(f, a, b):\n",
        "    return (b - a) * (f(a) + f(b)) / 2\n",
        "\n",
        "def regla_simpson_1_3(f, a, b):\n",
        "    m = (a + b) / 2\n",
        "    return (b - a) / 6 * (f(a) + 4*f(m) + f(b))\n",
        "\n",
        "def regla_simpson_3_8(f, a, b):\n",
        "    h = (b - a) / 3\n",
        "    return (3*h / 8) * (f(a) + 3*f(a + h) + 3*f(a + 2*h) + f(b))\n",
        "\n",
        "def newton_cotes_cerrada_n4(f, a, b):\n",
        "    h = (b - a) / 4\n",
        "    x_vals = [a + i*h for i in range(5)]\n",
        "    coef = [7, 32, 12, 32, 7]\n",
        "    return (2*h / 45) * sum(c * f(xi) for c, xi in zip(coef, x_vals))\n",
        "\n",
        "# Formulas abiertas\n",
        "def newton_cotes_abierta(f, a, b, n):\n",
        "    h = (b - a) / (n + 2)\n",
        "    x_vals = [a + (i + 1)*h for i in range(n + 1)]\n",
        "    if n == 0:\n",
        "        return (b - a) * f(x_vals[0])\n",
        "    elif n == 1:\n",
        "        return (b - a) * (f(x_vals[0]) + f(x_vals[1])) / 2\n",
        "    elif n == 2:\n",
        "        return (b - a) * (2*f(x_vals[0]) - f(x_vals[1]) + 2*f(x_vals[2])) / 3\n",
        "    elif n == 3:\n",
        "        return (b - a) * (11*f(x_vals[0]) + f(x_vals[1]) + f(x_vals[2]) + 11*f(x_vals[3])) / 24\n",
        "    else:\n",
        "        raise ValueError(\"n debe estar entre 0 y 3\")\n",
        "\n",
        "#Valores\n",
        "a = 0\n",
        "b = np.pi / 4\n",
        "valor_real = 1 - np.sqrt(2)/2\n",
        "\n",
        "#Resultados\n",
        "print(f\"Valor real: {valor_real:.8f}\")\n",
        "\n",
        "print(\"\\nReglas cerradas:\")\n",
        "print(f\"Trapezoidal: {regla_trapezoidal(f_num, a, b):.8f}\")\n",
        "print(f\"Simpson 1/3: {regla_simpson_1_3(f_num, a, b):.8f}\")\n",
        "print(f\"Simpson 3/8: {regla_simpson_3_8(f_num, a, b):.8f}\")\n",
        "print(f\"Newton-Cotes cerrada n=4: {newton_cotes_cerrada_n4(f_num, a, b):.8f}\")\n",
        "\n",
        "print(\"\\nNewton-Cotes abiertas:\")\n",
        "for n in range(4):\n",
        "    resultado = newton_cotes_abierta(f_num, a, b, n)\n",
        "    print(f\"n={n}: {resultado:.8f}\")\n"
      ]
    },
    {
      "cell_type": "markdown",
      "source": [
        "# Explicacion del codigo\n",
        "\n",
        "# Importaciones de biblioteca\n",
        "\n",
        "\n",
        "\n",
        "```\n",
        "import sympy as sp\n",
        "import numpy as np\n",
        "\n",
        "```\n",
        "sympy lo use para definir funciones simbolicas.\n",
        "\n",
        "numpy lo usare para calculos numericos (valores como π, raíces, etc).\n",
        "\n",
        "\n",
        "\n",
        "\n"
      ],
      "metadata": {
        "id": "yTElzi730_Oh"
      }
    },
    {
      "cell_type": "markdown",
      "source": [
        "# 2. Definición simbolica y numerica de la funcion\n",
        "\n",
        "\n",
        "\n",
        "```\n",
        "x = sp.Symbol('x')\n",
        "f = sp.sin(x)\n",
        "f_num = sp.lambdify(x, f, modules='numpy')\n",
        "\n",
        "```\n",
        "Se define simbolicamente f(x) = sen(x).\n",
        "\n",
        "Luego se convierte en una funcion numerica f_num(x) que se puede evaluar con numpy.\n"
      ],
      "metadata": {
        "id": "1t0utaSt19D5"
      }
    },
    {
      "cell_type": "markdown",
      "source": [
        "# 3. Formulas cerradas de Newton-Cotes\n",
        "\n",
        "Estas formulas usan nodos incluyendo los extremos del intervalo $[a, b]$ :\n",
        "\n",
        "*   Regla Trapezoidal\n",
        "\n",
        "\n",
        "```\n",
        "def regla_trapezoidal(f, a, b):\n",
        "    return (b - a) * (f(a) + f(b)) / 2\n",
        "\n",
        "```\n",
        "\n",
        "*   Regla de Simpson 1/3 (n=2)\n",
        "\n",
        "\n",
        "```\n",
        "def regla_simpson_1_3(f, a, b):\n",
        "    m = (a + b) / 2\n",
        "    return (b - a) / 6 * (f(a) + 4*f(m) + f(b))\n",
        "\n",
        "```\n",
        "\n",
        "*   Regla de Simpson 3/8 (n=3)\n",
        "\n",
        "\n",
        "```\n",
        "def regla_simpson_3_8(f, a, b):\n",
        "    h = (b - a) / 3\n",
        "    return (3*h / 8) * (f(a) + 3*f(a + h) + 3*f(a + 2*h) + f(b))\n",
        "\n",
        "```\n",
        "\n",
        "*  Newton-Cotes cerrada con n=4\n",
        "\n",
        "```\n",
        "def newton_cotes_cerrada_n4(f, a, b):\n",
        "    h = (b - a) / 4\n",
        "    x_vals = [a + i*h for i in range(5)]\n",
        "    coef = [7, 32, 12, 32, 7]\n",
        "    return (2*h / 45) * sum(c * f(xi) for c, xi in zip(coef, x_vals))\n",
        "\n",
        "```\n",
        "\n",
        "\n",
        "\n",
        "\n",
        "\n",
        "\n",
        "\n",
        "\n"
      ],
      "metadata": {
        "id": "H_GP2kPc25WW"
      }
    },
    {
      "cell_type": "markdown",
      "source": [
        "# 4. Formulas abiertas de Newton-Cotes\n",
        "\n",
        "Estas no usan los valores en los extremos, sino que usan nodos interiores.\n",
        "\n",
        "\n",
        "```\n",
        "def newton_cotes_abierta(f, a, b, n):\n",
        "    h = (b - a) / (n + 2)\n",
        "    x_vals = [a + (i + 1)*h for i in range(n + 1)]\n",
        "\n",
        "```\n",
        "\n",
        "Luego, segun el valor de n, se aplica la formula correspondiente (coeficientes tomados de Newton-Cotes abiertas de orden 0 a 3):\n",
        "\n",
        "\n",
        "```\n",
        "    if n == 0:\n",
        "        return (b - a) * f(x_vals[0])\n",
        "    elif n == 1:\n",
        "        return (b - a) * (f(x_vals[0]) + f(x_vals[1])) / 2\n",
        "    elif n == 2:\n",
        "        return (b - a) * (2*f(x_vals[0]) - f(x_vals[1]) + 2*f(x_vals[2])) / 3\n",
        "    elif n == 3:\n",
        "        return (b - a) * (11*f(x_vals[0]) + f(x_vals[1]) + f(x_vals[2]) + 11*f(x_vals[3])) / 24\n",
        "\n",
        "```\n",
        "\n"
      ],
      "metadata": {
        "id": "Bx16neiP4x55"
      }
    },
    {
      "cell_type": "markdown",
      "source": [
        "# 5. Valores iniciales\n",
        "\n",
        "```\n",
        "a = 0\n",
        "b = np.pi / 4\n",
        "valor_real = 1 - np.sqrt(2)/2\n",
        "\n",
        "```\n",
        "\n",
        "* Se define el intervalo de integración $[0,  π / 4 ]$\n",
        "\n",
        "* Se calcula el valor exacto de la integral.\n",
        "\n"
      ],
      "metadata": {
        "id": "omG5TYqb5vHp"
      }
    },
    {
      "cell_type": "markdown",
      "source": [
        "# 6. Resultados\n",
        "\n",
        "Por ultimo se imprimen los resultados de cada metodo:\n",
        "\n",
        "```\n",
        "print(f\"Valor real: {valor_real:.8f}\")\n",
        "...\n",
        "print(f\"Trapezoidal: {regla_trapezoidal(f_num, a, b):.8f}\")\n",
        "...\n",
        "for n in range(4):\n",
        "    resultado = newton_cotes_abierta(f_num, a, b, n)\n",
        "    print(f\"n={n}: {resultado:.8f}\")\n",
        "\n",
        "```\n",
        "\n"
      ],
      "metadata": {
        "id": "UOJRMCpm6mBg"
      }
    }
  ]
}