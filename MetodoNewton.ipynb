{
  "nbformat": 4,
  "nbformat_minor": 0,
  "metadata": {
    "colab": {
      "provenance": [],
      "authorship_tag": "ABX9TyNB5itWmBii7XIOxpsWrnQP",
      "include_colab_link": true
    },
    "kernelspec": {
      "name": "python3",
      "display_name": "Python 3"
    },
    "language_info": {
      "name": "python"
    }
  },
  "cells": [
    {
      "cell_type": "markdown",
      "metadata": {
        "id": "view-in-github",
        "colab_type": "text"
      },
      "source": [
        "<a href=\"https://colab.research.google.com/github/Ian-G27/Clase_MetodosNumericos/blob/main/MetodoNewton.ipynb\" target=\"_parent\"><img src=\"https://colab.research.google.com/assets/colab-badge.svg\" alt=\"Open In Colab\"/></a>"
      ]
    },
    {
      "cell_type": "markdown",
      "source": [
        "Metodo de Newton"
      ],
      "metadata": {
        "id": "p1OGzAwxtiNa"
      }
    },
    {
      "cell_type": "code",
      "execution_count": 4,
      "metadata": {
        "id": "RK40sxMDgoMv",
        "colab": {
          "base_uri": "https://localhost:8080/"
        },
        "outputId": "3a188cd3-0b67-4a9c-cc56-7052d9cae0a0"
      },
      "outputs": [
        {
          "output_type": "stream",
          "name": "stdout",
          "text": [
            "Ingresa la funcion f(x) en terminos de x: x**3-3\n",
            "Ingresa la derivada f'(x) en terminos de x: x**2\n",
            "Ingresa la aproximacion inicial p0: 0.5\n",
            "Ingresa la tolerancia TOL: 10e-8\n",
            "Ingresa el numero maximo de iteraciones N0: 12\n",
            "  Iteracion                          p0                                                     f(p0)                                     f'(p0)                           p\n",
            "-----------  --------------------------  --------------------------------------------------------  -----------------------------------------  --------------------------\n",
            "          1                0.5000000000                                             -2.8750000000                               0.2500000000               12.0000000000\n",
            "          2               12.0000000000                                           1725.0000000000                             144.0000000000                0.0208333333\n",
            "          3                0.0208333333                                             -2.9999909578                               0.0004340278             6911.9999999996\n",
            "          4             6911.9999999996                                   330225942524.9436645508                        47775743.9999945685                0.0000000628\n",
            "          5                0.0000000628                                             -3.0000000000                               0.0000000000  760819439096229.2500000000\n",
            "          6  760819439096229.2500000000  440397455591569277654817636853300780981026816.0000000000  578846218906700919851385356288.0000000000                0.1250000000\n",
            "          7                0.1250000000                                             -2.9980468750                               0.0156250000              192.0000000000\n",
            "          8              192.0000000000                                        7077885.0000000000                           36864.0000000000                0.0000813802\n",
            "          9                0.0000813802                                             -3.0000000000                               0.0000000066        452984831.8945311904\n",
            "         10        452984831.8945311904                     92950339417398130272894976.0000000000              205195257926516672.0000000000               -0.0000000596\n",
            "         11               -0.0000000596                                             -3.0000000000                               0.0000000000  844424930131968.0000000000\n",
            "         12  844424930131968.0000000000  602120120360326824821464393361505760661471232.0000000000  713053462628379038341895553024.0000000000                0.0000000000\n",
            "\n",
            "El metodo fallo despues de 13 iteraciones.\n"
          ]
        }
      ],
      "source": [
        "import math\n",
        "from tabulate import tabulate\n",
        "#Definimos primero la funcion f(x) y su derivada f'(x)\n",
        "def f(x):\n",
        "    return eval(funcion)  #Nos ayudara a evaluar la funcion ingresada\n",
        "def f_primera(x):\n",
        "    return eval(derivada)  #Ahora nos ayudara a evaluar la derivada ingresada\n",
        "#Implementando el metodo de Newton\n",
        "def newton_metodo(p0, tol, N0):\n",
        "    iteraciones = []\n",
        "    i = 1\n",
        "    while i <= N0:\n",
        "        p = p0 - f(p0) / f_primera(p0)  # Paso 3 del metodo: Calcular pi\n",
        "        iteraciones.append([i, p0, f(p0), f_primera(p0), p])\n",
        "        if abs(p - p0) < tol:  # Paso 4 del metodo: Comparar con la tolerancia\n",
        "            return p, i, iteraciones  # Solucion encontrada\n",
        "        i += 1  # Paso 5: Incrementar el contador de iteraciones\n",
        "        p0 = p  # Paso 6: Actualizacion de p0\n",
        "    return None, i, iteraciones  # Paso 7: Por si no se encuentra la solucion despues de N0 iteraciones\n",
        "#En esta parte se solicitaran los parametros al usuario\n",
        "funcion = input(\"Ingresa la funcion f(x) en terminos de x: \")\n",
        "derivada = input(\"Ingresa la derivada f'(x) en terminos de x: \")\n",
        "p0 = float(input(\"Ingresa la aproximacion inicial p0: \"))\n",
        "tol = float(input(\"Ingresa la tolerancia TOL: \"))\n",
        "N0 = int(input(\"Ingresa el numero maximo de iteraciones N0: \"))\n",
        "#Se llama al metodo de Newton\n",
        "solucion, iteraciones_totales, iteraciones = newton_metodo(p0, tol, N0)\n",
        "#En esta parte se mostraran los resultados en forma de tabla\n",
        "headers = [\"Iteracion\", \"p0\", \"f(p0)\", \"f'(p0)\", \"p\"]\n",
        "print(tabulate(iteraciones, headers=headers, floatfmt=\".10f\"))\n",
        "# Imprimiendo la solucion final\n",
        "if solucion is not None:\n",
        "    print(f\"\\nSolucion aproximada: {solucion} en {iteraciones_totales} iteraciones\")\n",
        "else:\n",
        "    print(f\"\\nEl metodo fallo despues de {iteraciones_totales} iteraciones.\")"
      ]
    }
  ]
}