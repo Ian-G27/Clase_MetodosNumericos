{
  "nbformat": 4,
  "nbformat_minor": 0,
  "metadata": {
    "colab": {
      "provenance": [],
      "authorship_tag": "ABX9TyMSiQQyT03bMT/5U5XB6CGQ",
      "include_colab_link": true
    },
    "kernelspec": {
      "name": "python3",
      "display_name": "Python 3"
    },
    "language_info": {
      "name": "python"
    }
  },
  "cells": [
    {
      "cell_type": "markdown",
      "metadata": {
        "id": "view-in-github",
        "colab_type": "text"
      },
      "source": [
        "<a href=\"https://colab.research.google.com/github/Ian-G27/Clase_MetodosNumericos/blob/main/Tarea1.ipynb\" target=\"_parent\"><img src=\"https://colab.research.google.com/assets/colab-badge.svg\" alt=\"Open In Colab\"/></a>"
      ]
    },
    {
      "cell_type": "markdown",
      "source": [
        "Ejercicio:Escribir una funcion que convierta un numero entero decimal a binario\n",
        "$Numero decimal a Binario$\n"
      ],
      "metadata": {
        "id": "yvDFA3D8WTlW"
      }
    },
    {
      "cell_type": "code",
      "execution_count": 11,
      "metadata": {
        "colab": {
          "base_uri": "https://localhost:8080/"
        },
        "id": "r8-GJBJdS60C",
        "outputId": "d8b317e7-da2b-48d1-9db1-f2ef613c578f"
      },
      "outputs": [
        {
          "output_type": "stream",
          "name": "stdout",
          "text": [
            "ingrese un numero cualquiera pero que sea entero: 26\n",
            "11010\n"
          ]
        }
      ],
      "source": [
        "def decimal_binario(n):\n",
        "    if n == 0:                 # aqui si el numero es 0 su representacion binaria tambien sera 0\n",
        "        return \"0\"\n",
        "    binario = \"\"               #aqui esta es la variable que almacena cualquier numero\n",
        "    while n > 0:                #aqui debe de cumplir que el usuario ingrese un numero mayor a 0\n",
        "        binario = str(n % 2) + binario               #aqui se obtiene el residuo de n/2 y se nos agrega a inicio de la cadena\n",
        "        n //= 2                    #aqui se divide el numero entre 2 asi desc artando numeros que pódrian ser decimales\n",
        "    return binario                 #aqui claramente nos retorna la cadena ya con el numero en binario\n",
        "def decimal_octal(n):\n",
        "    if n == 0:\n",
        "        return \"0\"\n",
        "    octal = \"\"\n",
        "    while n > 0:\n",
        "        octal = str(n % 8) + octal\n",
        "        n //= 8\n",
        "    return octal\n",
        "\n",
        "\n",
        "numero=int(input(\"ingrese un numero cualquiera pero que sea entero: \"))\n",
        "print(decimal_binario(numero))\n",
        "numero2=int(input(\"ingrese un numero cualquiera pero que sea entero: \"))\n",
        "print(decimal_octal(numero))\n",
        "\n"
      ]
    },
    {
      "cell_type": "markdown",
      "source": [
        "ejercicio 2: convierta un numero decimal no entero a binario"
      ],
      "metadata": {
        "id": "0s8g_beBdmE_"
      }
    },
    {
      "cell_type": "code",
      "source": [
        "def decimal_a_binario(n):\n",
        "    if n == 0:\n",
        "        return \"0\"\n",
        "    #aqui lo que quiero hacer es separar la parte entera y la decimal\n",
        "    parte_entera = int(n)\n",
        "    parte_decimal = n - parte_entera\n",
        "    #aqui quiero solo convertir la parte entera a binario\n",
        "    binario_entero = \"\"\n",
        "    if parte_entera == 0:\n",
        "        binario_entero = \"0\"\n",
        "    else:\n",
        "        while parte_entera > 0:\n",
        "            binario_entero = str(parte_entera % 2) + binario_entero\n",
        "            parte_entera //= 2\n",
        "    #ahora aqui lo que procedere a hacer es convertir la parte decimal a binario\n",
        "    binario_decimal = \"\"\n",
        "    while parte_decimal > 0:\n",
        "        parte_decimal *= 2\n",
        "\n"
      ],
      "metadata": {
        "id": "QNQMfIHcY3up"
      },
      "execution_count": null,
      "outputs": []
    }
  ]
}