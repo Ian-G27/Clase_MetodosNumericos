{
  "nbformat": 4,
  "nbformat_minor": 0,
  "metadata": {
    "colab": {
      "provenance": [],
      "authorship_tag": "ABX9TyPVVr5CqCgVgIV5w3GuGQ9t",
      "include_colab_link": true
    },
    "kernelspec": {
      "name": "python3",
      "display_name": "Python 3"
    },
    "language_info": {
      "name": "python"
    }
  },
  "cells": [
    {
      "cell_type": "markdown",
      "metadata": {
        "id": "view-in-github",
        "colab_type": "text"
      },
      "source": [
        "<a href=\"https://colab.research.google.com/github/Ian-G27/Clase_MetodosNumericos/blob/main/Tarea1.ipynb\" target=\"_parent\"><img src=\"https://colab.research.google.com/assets/colab-badge.svg\" alt=\"Open In Colab\"/></a>"
      ]
    },
    {
      "cell_type": "markdown",
      "source": [
        "Ejercicio:Escribir una funcion que convierta un numero entero decimal a binario\n",
        "$Numero decimal a Binario$\n"
      ],
      "metadata": {
        "id": "yvDFA3D8WTlW"
      }
    },
    {
      "cell_type": "code",
      "execution_count": 3,
      "metadata": {
        "colab": {
          "base_uri": "https://localhost:8080/"
        },
        "id": "r8-GJBJdS60C",
        "outputId": "97630529-9d87-4f53-d6d4-46642176a49a"
      },
      "outputs": [
        {
          "output_type": "stream",
          "name": "stdout",
          "text": [
            "ingrese un numero cualquiera pero que sea entero: 10\n",
            "1010\n",
            "ingrese un numero cualquiera pero que sea entero: 25\n",
            "12\n"
          ]
        }
      ],
      "source": [
        "def decimal_binario(n):\n",
        "    if n == 0:                 # aqui si el numero es 0 su representacion binaria tambien sera 0\n",
        "        return \"0\"\n",
        "    binario = \"\"               #aqui esta es la variable que almacena cualquier numero\n",
        "    while n > 0:                #aqui debe de cumplir que el usuario ingrese un numero mayor a 0\n",
        "        binario = str(n % 2) + binario               #aqui se obtiene el residuo de n/2 y se nos agrega a inicio de la cadena\n",
        "        n //= 2                    #aqui se divide el numero entre 2 asi desc artando numeros que pódrian ser decimales\n",
        "    return binario                 #aqui claramente nos retorna la cadena ya con el numero en binario\n",
        "def decimal_octal(n):\n",
        "    if n == 0:\n",
        "        return \"0\"\n",
        "    octal = \"\"\n",
        "    while n > 0:\n",
        "        octal = str(n % 8) + octal\n",
        "        n //= 8\n",
        "    return octal\n",
        "\n",
        "\n",
        "numero=int(input(\"ingrese un numero cualquiera pero que sea entero: \"))\n",
        "print(decimal_binario(numero))\n",
        "numero2=int(input(\"ingrese un numero cualquiera pero que sea entero: \"))\n",
        "print(decimal_octal(numero))\n",
        "\n"
      ]
    },
    {
      "cell_type": "markdown",
      "source": [
        "ejercicio 2: convierta un numero decimal no entero a binario"
      ],
      "metadata": {
        "id": "0s8g_beBdmE_"
      }
    },
    {
      "cell_type": "code",
      "source": [
        "def decimal_binario(n):\n",
        "    if n == 0:            #si el numero es 0 su forma binaria sera 0\n",
        "        return \"0\"\n",
        "    #aqui lo que quiero hacer es separar la parte entera y la decimal\n",
        "    parte_entera = int(n)       #como la variable lo dice tendra la parte entera del numero\n",
        "    parte_decimal = n - parte_entera            #ahora aqui se obtendra la parte decimal restando la parte entera\n",
        "    #aqui quiero solo convertir la parte entera a binario\n",
        "    binario_entero = \"\"          #se inicializara la cadena vacia de esto forma podre almacenar el binario\n",
        "    if parte_entera == 0:\n",
        "        binario_entero = \"0\"       #aqui si la parte entera es 0 el resultado binario tambien sera 0\n",
        "    else:\n",
        "        while parte_entera > 0:    #con que la parte entera sea mayor a 0\n",
        "            binario_entero = str(parte_entera % 2) + binario_entero              #aqui obtendre el residuo al dividirlo entre 2 y agregandolo al inicio\n",
        "            parte_entera //= 2                       #aqui seguira realizando la division entera entre 2 para seguir convirtiendo\n",
        "     #aqui en esta parte lo que hice es convertir la parte decimal a binario\n",
        "    binario_decimal = \"\"\n",
        "    if parte_decimal > 0:           #aqui solo se procesara si hay esta la parte decimal\n",
        "        binario_decimal = \".\"       #aqui se agregara si esta la parte decimal\n",
        "        for _ in range(10):         #esta linea ayuda a limitar a solo 10 dígitos decimales para evitar bucles infinitos\n",
        "            parte_decimal *= 2        #aqui multiplicare la parte decimal por 2\n",
        "            bit = int(parte_decimal)         #aqui nos ayudara a extraer la parte entera del resultado para que sea el siguiente bit binario\n",
        "            binario_decimal += str(bit)      #aqui solo se agrega el bit al resultado\n",
        "            parte_decimal -= bit             #aqui se restara la parte entera para continuar con la parte fraccionaria\n",
        "            if parte_decimal == 0:           #si la parte decimal llegara a 0 termina la conversion\n",
        "                break\n",
        "    return binario_entero + binario_decimal\n",
        "\n",
        "if __name__ == \"__main__\":\n",
        "    numero = float(input(\"Ingresa un número decimal: \")) #lo hize de esta forma para que nos deje meter los numeros con decimales\n",
        "    print(f\"El número {numero} en binario es: {decimal_binario(numero)}\")\n",
        "\n"
      ],
      "metadata": {
        "id": "QNQMfIHcY3up",
        "colab": {
          "base_uri": "https://localhost:8080/"
        },
        "outputId": "3120fa03-0393-4ddf-b9e9-75ff5604dba8"
      },
      "execution_count": 6,
      "outputs": [
        {
          "output_type": "stream",
          "name": "stdout",
          "text": [
            "Ingresa un número decimal: 25.4\n",
            "El número 25.4 en binario es: 11001.0110011001\n"
          ]
        }
      ]
    }
  ]
}