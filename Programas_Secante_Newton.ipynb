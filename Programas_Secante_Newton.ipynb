{
  "nbformat": 4,
  "nbformat_minor": 0,
  "metadata": {
    "colab": {
      "provenance": [],
      "authorship_tag": "ABX9TyMBFyan01yoX3Y3cGKs76ue",
      "include_colab_link": true
    },
    "kernelspec": {
      "name": "python3",
      "display_name": "Python 3"
    },
    "language_info": {
      "name": "python"
    }
  },
  "cells": [
    {
      "cell_type": "markdown",
      "metadata": {
        "id": "view-in-github",
        "colab_type": "text"
      },
      "source": [
        "<a href=\"https://colab.research.google.com/github/Ian-G27/Clase_MetodosNumericos/blob/main/Programas_Secante_Newton.ipynb\" target=\"_parent\"><img src=\"https://colab.research.google.com/assets/colab-badge.svg\" alt=\"Open In Colab\"/></a>"
      ]
    },
    {
      "cell_type": "markdown",
      "source": [
        "Metodo de Newton"
      ],
      "metadata": {
        "id": "p1OGzAwxtiNa"
      }
    },
    {
      "cell_type": "code",
      "execution_count": 4,
      "metadata": {
        "id": "RK40sxMDgoMv",
        "colab": {
          "base_uri": "https://localhost:8080/"
        },
        "outputId": "3a188cd3-0b67-4a9c-cc56-7052d9cae0a0"
      },
      "outputs": [
        {
          "output_type": "stream",
          "name": "stdout",
          "text": [
            "Ingresa la funcion f(x) en terminos de x: x**3-3\n",
            "Ingresa la derivada f'(x) en terminos de x: x**2\n",
            "Ingresa la aproximacion inicial p0: 0.5\n",
            "Ingresa la tolerancia TOL: 10e-8\n",
            "Ingresa el numero maximo de iteraciones N0: 12\n",
            "  Iteracion                          p0                                                     f(p0)                                     f'(p0)                           p\n",
            "-----------  --------------------------  --------------------------------------------------------  -----------------------------------------  --------------------------\n",
            "          1                0.5000000000                                             -2.8750000000                               0.2500000000               12.0000000000\n",
            "          2               12.0000000000                                           1725.0000000000                             144.0000000000                0.0208333333\n",
            "          3                0.0208333333                                             -2.9999909578                               0.0004340278             6911.9999999996\n",
            "          4             6911.9999999996                                   330225942524.9436645508                        47775743.9999945685                0.0000000628\n",
            "          5                0.0000000628                                             -3.0000000000                               0.0000000000  760819439096229.2500000000\n",
            "          6  760819439096229.2500000000  440397455591569277654817636853300780981026816.0000000000  578846218906700919851385356288.0000000000                0.1250000000\n",
            "          7                0.1250000000                                             -2.9980468750                               0.0156250000              192.0000000000\n",
            "          8              192.0000000000                                        7077885.0000000000                           36864.0000000000                0.0000813802\n",
            "          9                0.0000813802                                             -3.0000000000                               0.0000000066        452984831.8945311904\n",
            "         10        452984831.8945311904                     92950339417398130272894976.0000000000              205195257926516672.0000000000               -0.0000000596\n",
            "         11               -0.0000000596                                             -3.0000000000                               0.0000000000  844424930131968.0000000000\n",
            "         12  844424930131968.0000000000  602120120360326824821464393361505760661471232.0000000000  713053462628379038341895553024.0000000000                0.0000000000\n",
            "\n",
            "El metodo fallo despues de 13 iteraciones.\n"
          ]
        }
      ],
      "source": [
        "import math\n",
        "from tabulate import tabulate\n",
        "#Definimos primero la funcion f(x) y su derivada f'(x)\n",
        "def f(x):\n",
        "    return eval(funcion)  #Nos ayudara a evaluar la funcion ingresada\n",
        "def f_primera(x):\n",
        "    return eval(derivada)  #Ahora nos ayudara a evaluar la derivada ingresada\n",
        "#Implementando el metodo de Newton\n",
        "def newton_metodo(p0, tol, N0):\n",
        "    iteraciones = []\n",
        "    i = 1\n",
        "    while i <= N0:\n",
        "        p = p0 - f(p0) / f_primera(p0)  # Paso 3 del metodo: Calcular pi\n",
        "        iteraciones.append([i, p0, f(p0), f_primera(p0), p])\n",
        "        if abs(p - p0) < tol:  # Paso 4 del metodo: Comparar con la tolerancia\n",
        "            return p, i, iteraciones  # Solucion encontrada\n",
        "        i += 1  # Paso 5: Incrementar el contador de iteraciones\n",
        "        p0 = p  # Paso 6: Actualizacion de p0\n",
        "    return None, i, iteraciones  # Paso 7: Por si no se encuentra la solucion despues de N0 iteraciones\n",
        "#En esta parte se solicitaran los parametros al usuario\n",
        "funcion = input(\"Ingresa la funcion f(x) en terminos de x: \")\n",
        "derivada = input(\"Ingresa la derivada f'(x) en terminos de x: \")\n",
        "p0 = float(input(\"Ingresa la aproximacion inicial p0: \"))\n",
        "tol = float(input(\"Ingresa la tolerancia TOL: \"))\n",
        "N0 = int(input(\"Ingresa el numero maximo de iteraciones N0: \"))\n",
        "#Se llama al metodo de Newton\n",
        "solucion, iteraciones_totales, iteraciones = newton_metodo(p0, tol, N0)\n",
        "#En esta parte se mostraran los resultados en forma de tabla\n",
        "headers = [\"Iteracion\", \"p0\", \"f(p0)\", \"f'(p0)\", \"p\"]\n",
        "print(tabulate(iteraciones, headers=headers, floatfmt=\".10f\"))\n",
        "# Imprimiendo la solucion final\n",
        "if solucion is not None:\n",
        "    print(f\"\\nSolucion aproximada: {solucion} en {iteraciones_totales} iteraciones\")\n",
        "else:\n",
        "    print(f\"\\nEl metodo fallo despues de {iteraciones_totales} iteraciones.\")"
      ]
    },
    {
      "cell_type": "markdown",
      "source": [
        "Metodo de biseccion"
      ],
      "metadata": {
        "id": "CkYqDZqgx2z5"
      }
    },
    {
      "cell_type": "code",
      "source": [
        "from tabulate import tabulate\n",
        "\n",
        "def secant_method(f, p0, p1, tol, N0):\n",
        "    q0 = f(p0)\n",
        "    q1 = f(p1)\n",
        "    iterations = []\n",
        "    i = 2  #Comenzando en la iteracion 2\n",
        "    while i <= N0:\n",
        "        #Calculamos p usando la formula de la secante\n",
        "        p = p1 - q1 * (p1 - p0) / (q1 - q0)\n",
        "        #Agregamos a la tabla de iteraciones\n",
        "        iterations.append([i, p0, p1, q0, q1, p])\n",
        "        #Verificando si la diferencia es menor a la tolerancia\n",
        "        if abs(p - p1) < tol:\n",
        "            #Se imprimira la tablacon sus iteraciones\n",
        "            print(tabulate(iterations, headers=[\"Iteracion\", \"p0\", \"p1\", \"q0=f(p0)\", \"q1=f(p1)\", \"p\"]))\n",
        "            print(f\"\\nSolucion aproximada: {p} en {i} iteraciones\")\n",
        "            return p\n",
        "        #Se actualizaran los valores\n",
        "        p0, p1 = p1, p\n",
        "        q0, q1 = q1, f(p1)\n",
        "        i += 1\n",
        "    #Si se alcanza el numero maximo de iteraciones\n",
        "    print(tabulate(iterations, headers=[\"Iteracion\", \"p0\", \"p1\", \"q0=f(p0)\", \"q1=f(p1)\", \"p\"]))\n",
        "    print(f\"\\nEl metodo fallo despues de {N0} iteraciones\")\n",
        "    return None\n",
        "#Se Pediran los datos al usuario\n",
        "funcion = input(\"Ingrese la funcion f(x) en terminos de x (ejemplo: x**3 - 2*x + 1): \")\n",
        "p0 = float(input(\"Ingrese la primera aproximacion inicial p0: \"))\n",
        "p1 = float(input(\"Ingrese la segunda aproximacion inicial p1: \"))\n",
        "tol = float(input(\"Ingrese la tolerancia (ejemplo: 1e-5): \"))\n",
        "N0 = int(input(\"Ingrese el numero maximo de iteraciones N0: \"))\n",
        "#Convirtiendo la funcion ingresada por el usuario en una funcion de Python\n",
        "f = lambda x: eval(funcion)\n",
        "#Por ultimo se ejecutara el metodo de la secante\n",
        "secant_method(f, p0, p1, tol, N0)"
      ],
      "metadata": {
        "id": "DgCf17kFpi4r",
        "colab": {
          "base_uri": "https://localhost:8080/"
        },
        "outputId": "2613b942-fd84-46c1-fe3c-296e6bb6aa0a"
      },
      "execution_count": 5,
      "outputs": [
        {
          "output_type": "stream",
          "name": "stdout",
          "text": [
            "Ingrese la función f(x) en términos de x (ejemplo: x**3 - 2*x + 1): x**3 - 2*x + 1\n",
            "Ingrese la primera aproximación inicial p0: 0.5\n",
            "Ingrese la segunda aproximación inicial p1: 0.6\n",
            "Ingrese la tolerancia (ejemplo: 1e-5): 1e-5\n",
            "Ingrese el número máximo de iteraciones N0: 50\n",
            "  Iteración        p0        p1     q0=f(p0)     q1=f(p1)         p\n",
            "-----------  --------  --------  -----------  -----------  --------\n",
            "          2  0.5       0.6       0.125        0.016        0.614679\n",
            "          3  0.6       0.614679  0.016        0.00288642   0.61791\n",
            "          4  0.614679  0.61791   0.00288642   0.000106045  0.618033\n",
            "          5  0.61791   0.618033  0.000106045  7.64933e-07  0.618034\n",
            "\n",
            "Solución aproximada: 0.6180339885086531 en 5 iteraciones\n"
          ]
        },
        {
          "output_type": "execute_result",
          "data": {
            "text/plain": [
              "0.6180339885086531"
            ]
          },
          "metadata": {},
          "execution_count": 5
        }
      ]
    }
  ]
}