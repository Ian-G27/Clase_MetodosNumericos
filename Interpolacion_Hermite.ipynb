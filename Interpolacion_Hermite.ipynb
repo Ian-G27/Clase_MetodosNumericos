{
  "nbformat": 4,
  "nbformat_minor": 0,
  "metadata": {
    "colab": {
      "provenance": [],
      "authorship_tag": "ABX9TyP1OCk/O9gkrIXFDAvqGSoi",
      "include_colab_link": true
    },
    "kernelspec": {
      "name": "python3",
      "display_name": "Python 3"
    },
    "language_info": {
      "name": "python"
    }
  },
  "cells": [
    {
      "cell_type": "markdown",
      "metadata": {
        "id": "view-in-github",
        "colab_type": "text"
      },
      "source": [
        "<a href=\"https://colab.research.google.com/github/Ian-G27/Clase_MetodosNumericos/blob/main/Interpolacion_Hermite.ipynb\" target=\"_parent\"><img src=\"https://colab.research.google.com/assets/colab-badge.svg\" alt=\"Open In Colab\"/></a>"
      ]
    },
    {
      "cell_type": "markdown",
      "source": [
        "# Interpolacion de Hermite\n"
      ],
      "metadata": {
        "id": "CLMgSLO7_BFx"
      }
    },
    {
      "cell_type": "code",
      "source": [
        "import numpy as np\n",
        "import pandas as pd\n",
        "import sympy as sp\n",
        "#Estos son los datos de entrada\n",
        "x = np.array([1.3, 1.6, 1.9])               #nodos\n",
        "f = np.array([0.6200860, 0.4554022, 0.2818186])  # f(xi)\n",
        "df = np.array([-0.5220232, -0.5698959, -0.5811571])  # f'(xi)\n",
        "n = len(x)\n",
        "z = np.zeros(2 * n)\n",
        "Q = np.zeros((2 * n, 2 * n))\n",
        "# Paso 2:Duplicare los nodos y llenar f(x) y f'(x)\n",
        "for i in range(n):\n",
        "    z[2*i] = z[2*i+1] = x[i]\n",
        "    Q[2*i, 0] = Q[2*i+1, 0] = f[i]\n",
        "    Q[2*i+1, 1] = df[i]\n",
        "    if i != 0:\n",
        "        Q[2*i, 1] = (Q[2*i, 0] - Q[2*i-1, 0]) / (z[2*i] - z[2*i-1])\n",
        "#Calculare las diferencias divididas\n",
        "for i in range(2, 2*n):\n",
        "    for j in range(2, i+1):\n",
        "        Q[i, j] = (Q[i, j-1] - Q[i-1, j-1]) / (z[i] - z[i-j])\n",
        "#Creare la tabla en pandas\n",
        "nombre_columnas = [\"i\", \"zᵢ\", \"Q[i,0]\"] + [f\"Q[i,{j}]\" for j in range(1, 2*n)]\n",
        "table_data = []\n",
        "for i in range(2*n):\n",
        "    row = [i, z[i], Q[i, 0]]\n",
        "    for j in range(1, i+1):\n",
        "        row.append(Q[i, j])\n",
        "    table_data.append(row)\n",
        "max_len = max(len(row) for row in table_data)\n",
        "nombre_columnas = nombre_columnas[:max_len]\n",
        "df_table = pd.DataFrame(table_data, columns=nombre_columnas)\n",
        "print(\"\\nTabla de interpolacion de Hermite:\\n\")\n",
        "print(df_table.round(7))\n",
        "#Por ultimo construire el polinomio\n",
        "x_sym = sp.Symbol('x')\n",
        "H = 0\n",
        "term = 1\n",
        "for i in range(2*n):\n",
        "    H += Q[i, i] * term\n",
        "    term *= (x_sym - z[i])\n",
        "H_expanded = sp.expand(H)\n",
        "print(\"\\nPolinomio de Hermite H(x):\")\n",
        "sp.pprint(H_expanded, use_unicode=True)"
      ],
      "metadata": {
        "colab": {
          "base_uri": "https://localhost:8080/"
        },
        "id": "XpXvR7pJ-t8p",
        "outputId": "435a56a7-406a-4059-c6bb-b40d64d3d631"
      },
      "execution_count": 2,
      "outputs": [
        {
          "output_type": "stream",
          "name": "stdout",
          "text": [
            "\n",
            "Tabla de interpolacion de Hermite:\n",
            "\n",
            "   i   zᵢ    Q[i,0]    Q[i,1]    Q[i,2]    Q[i,3]    Q[i,4]    Q[i,5]\n",
            "0  0  1.3  0.620086       NaN       NaN       NaN       NaN       NaN\n",
            "1  1  1.3  0.620086 -0.522023       NaN       NaN       NaN       NaN\n",
            "2  2  1.6  0.455402 -0.548946 -0.089743       NaN       NaN       NaN\n",
            "3  3  1.6  0.455402 -0.569896 -0.069833  0.066366       NaN       NaN\n",
            "4  4  1.9  0.281819 -0.578612 -0.029054  0.067966  0.002667       NaN\n",
            "5  5  1.9  0.281819 -0.581157 -0.008484  0.068567  0.001002 -0.002775\n",
            "\n",
            "Polinomio de Hermite H(x):\n",
            "                       5                       4                       3       ↪\n",
            "- 0.00277469135798944⋅x  + 0.0240317901231809⋅x  - 0.0145560802460553⋅x  - 0.2 ↪\n",
            "\n",
            "↪                 2                                           \n",
            "↪ 35216169754413⋅x  - 0.00822922345577151⋅x + 1.00194406469105\n"
          ]
        }
      ]
    },
    {
      "cell_type": "markdown",
      "source": [
        "# Explicacion del codigo"
      ],
      "metadata": {
        "id": "TU_Cknzj_cUx"
      }
    },
    {
      "cell_type": "markdown",
      "source": [
        "Librerias utilizadas\n",
        "\n",
        "\n",
        "\n",
        "```\n",
        "import numpy as np   #Para hacer operaciones matematicas\n",
        "import pandas as pd  #Para imprimir una tabla como la del libro\n",
        "import sympy as sp   #Para manipular y mostrar simbólicamente el polinomio de Hermite\n",
        "\n",
        "```\n",
        "\n"
      ],
      "metadata": {
        "id": "Bo8pGHk3_lEh"
      }
    },
    {
      "cell_type": "markdown",
      "source": [
        "Datos de entrada\n",
        "\n",
        "$x:$ son los puntos conocidos\n",
        "\n",
        "$f:$ son los valores de ola funcion en esos puntos\n",
        "\n",
        "$df:$ son las derivadas de la funcion en los puntos\n",
        "\n",
        "$n:$ es el numero de puntos"
      ],
      "metadata": {
        "id": "_RqdYyEiAVHQ"
      }
    },
    {
      "cell_type": "markdown",
      "source": [
        "Paso 1,2 y 3 del pseudocodigo\n",
        "\n",
        "\n",
        "\n",
        "\n",
        "```\n",
        "# Crear z y Q\n",
        "z = np.zeros(2 * n)\n",
        "Q = np.zeros((2 * n, 2 * n))\n",
        "for i in range(n):\n",
        "    z[2 * i] = x[i]\n",
        "    z[2 * i + 1] = x[i]\n",
        "    Q[2 * i][0] = f[i]\n",
        "    Q[2 * i + 1][0] = f[i]\n",
        "    Q[2 * i + 1][1] = df[i]\n",
        "    if i != 0:\n",
        "        Q[2 * i][1] = (Q[2 * i][0] - Q[2 * i - 1][0]) / (z[2 * i] - z[2 * i - 1])\n",
        "```\n",
        "\n",
        "$z$ duplica cada valor de $x$ ya que el algoritmo repite los nodos\n",
        "\n",
        "$Q[:,0]$ se llena con los valores de $f(x)$\n",
        "\n",
        "$Q[impar,1]$ se llena con $f´[x]$\n",
        "\n",
        "Para los nodos repetidos se usa la formula del paso del pseudocodigo(diferencia dividida cuando hay repeticion de los nodos)\n",
        "\n"
      ],
      "metadata": {
        "id": "FgMnTIPRBvs4"
      }
    },
    {
      "cell_type": "markdown",
      "source": [
        "Paso 4: calculando las diferencias divididas\n",
        "\n",
        "\n",
        "```\n",
        "for i in range(2, 2*n):\n",
        "    for j in range(2, i+1):\n",
        "        Q[i, j] = (Q[i, j-1] - Q[i-1, j-1]) / (z[i] - z[i-j])\n",
        "```\n",
        "Se llenan el resto de las diferencias divididas usando la formula general de Newton-Hermite para construir la matriz triangular.\n"
      ],
      "metadata": {
        "id": "uj2vBuUTJOr4"
      }
    },
    {
      "cell_type": "markdown",
      "source": [
        "Paso 5: Construccion de la tabla para que sea visualizada\n",
        "\n",
        "\n",
        "```\n",
        "column_names = [\"i\", \"zᵢ\", \"Q[i,0]\"] + [f\"Q[i,{j}]\" for j in range(1, 2*n)]\n",
        "table_data = []\n",
        "for i in range(2*n):\n",
        "    row = [i, z[i], Q[i, 0]]\n",
        "    for j in range(1, i+1):\n",
        "        row.append(Q[i, j])\n",
        "    table_data.append(row)\n",
        "```\n",
        "Se genera la tabla paso a paso, agregando las entradas de cada fila de Q hasta\n",
        "\n",
        "*   Se genera la tabla paso a paso, agregando las entradas de cada fila de Q hasta la columna correspondiente.\n",
        "\n",
        "\n",
        "```\n",
        "max_len = max(len(row) for row in table_data)\n",
        "column_names = column_names[:max_len]\n",
        "df_table = pd.DataFrame(table_data, columns=column_names)\n",
        "\n",
        "print(\"\\nTabla de interpolación de Hermite:\\n\")\n",
        "print(df_table.round(7))\n",
        "```\n",
        "Se ajusta el número de columnas para el DataFrame.\n",
        "\n",
        "*   Se ajusta el número de columnas para el DataFrame.\n",
        "*   Se imprime la tabla redondeada a 7 decimales."
      ],
      "metadata": {
        "id": "A-pmuCd_Jqlz"
      }
    },
    {
      "cell_type": "markdown",
      "source": [
        "Paso 6:Construcción simbólica del polinomio de Hermite\n",
        "\n",
        "\n",
        "\n",
        "```\n",
        "x_sym = sp.Symbol('x')\n",
        "H = 0\n",
        "term = 1\n",
        "for i in range(2*n):\n",
        "    H += Q[i, i] * term\n",
        "    term *= (x_sym - z[i])\n",
        "\n",
        "```\n",
        "*  Se construye simbólicamente el polinomio de Hermite $H(x)$ con la fórmula: $H(x)= Q_{0,0}+Q_{1,1}(x-z_0)(x-z_1)+....$\n",
        "\n",
        "\n",
        "\n",
        "```\n",
        "H_expanded = sp.expand(H)\n",
        "print(\"\\nPolinomio de Hermite H(x):\")\n",
        "sp.pprint(H_expanded, use_unicode=True)\n",
        "\n",
        "```\n",
        "\n",
        "*  Se expande el polinomio en forma estándar (multiplicando los factores).\n",
        "*  Se imprime el polinomio en forma legible usando SymPy."
      ],
      "metadata": {
        "id": "1z7IT3gWLJ0R"
      }
    }
  ]
}