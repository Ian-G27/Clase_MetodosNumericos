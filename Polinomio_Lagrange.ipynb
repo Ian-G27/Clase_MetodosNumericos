{
  "nbformat": 4,
  "nbformat_minor": 0,
  "metadata": {
    "colab": {
      "provenance": [],
      "authorship_tag": "ABX9TyNc59urMxctXRJ9ds7YtQ3I",
      "include_colab_link": true
    },
    "kernelspec": {
      "name": "python3",
      "display_name": "Python 3"
    },
    "language_info": {
      "name": "python"
    }
  },
  "cells": [
    {
      "cell_type": "markdown",
      "metadata": {
        "id": "view-in-github",
        "colab_type": "text"
      },
      "source": [
        "<a href=\"https://colab.research.google.com/github/Ian-G27/Clase_MetodosNumericos/blob/main/Polinomio_Lagrange.ipynb\" target=\"_parent\"><img src=\"https://colab.research.google.com/assets/colab-badge.svg\" alt=\"Open In Colab\"/></a>"
      ]
    },
    {
      "cell_type": "markdown",
      "source": [
        "#Ejercicio: Calcular un polinomio de lagrange y graficarlo\n"
      ],
      "metadata": {
        "id": "X5-9Khn_zdF0"
      }
    },
    {
      "cell_type": "markdown",
      "source": [
        "# Polinomio de interpolacion de lagranje\n",
        "\n",
        "El polinomio de interpolacion de Lagrange se define como:\n",
        "\n",
        "$P(X)= \\sum_{i=0}^{n}yᵢ Lᵢ(x)$\n",
        "\n",
        "Donde cada polinomio base de Lagrange $L ᵢ(x)$ y se calcula como:\n",
        "\n",
        "$Lᵢ(x) = \\prod_{j=0}^{n}x-xⱼ / xᵢ - xⱼ$\n",
        "\n",
        "Esta formula nos garantiza que $P(x)$ pase exactamente por todos los puntos dados.\n",
        "\n"
      ],
      "metadata": {
        "id": "_KcwX1XtEpy-"
      }
    },
    {
      "cell_type": "markdown",
      "source": [
        "# Formulas y funciones que se usaron para calcular el Polinomio de lagranje\n",
        "\n",
        "\n",
        "\n",
        "*  Se inicializa el polinomio como $0$\n",
        "*  Se recorren los indices $i$ para calcular el termino base $Lᵢ(x)$\n",
        "*  Se multiplican los terminos $(x - xⱼ) / (xᵢ - xⱼ)$ cuando $i\\neq j$\n",
        "*  Se suman los terminos ponderados por $f(xᵢ) $\n",
        "\n",
        "\n",
        "\n",
        "\n"
      ],
      "metadata": {
        "id": "l1idVM_63oBH"
      }
    },
    {
      "cell_type": "code",
      "execution_count": null,
      "metadata": {
        "colab": {
          "base_uri": "https://localhost:8080/",
          "height": 489
        },
        "id": "QIjC6Tbln-1k",
        "outputId": "eca1dc14-7588-4dbc-d548-46a8520a65a8"
      },
      "outputs": [
        {
          "output_type": "stream",
          "name": "stdout",
          "text": [
            "Polinomio de Lagrange: x**2/2 - x/2 + 2\n"
          ]
        },
        {
          "output_type": "display_data",
          "data": {
            "text/plain": [
              "<Figure size 640x480 with 1 Axes>"
            ],
            "image/png": "[encoded data removed]"
          },
          "metadata": {}
        }
      ],
      "source": [
        "import sympy as sp\n",
        "import numpy as np\n",
        "import matplotlib.pyplot as plt\n",
        "from sympy.abc import x\n",
        "\n",
        "def lagrange_interpolacion(x_valores, y_valores):\n",
        "    n = len(x_valores)\n",
        "    polinomio = 0\n",
        "    for i in range(n):\n",
        "        term = y_valores[i]\n",
        "        for j in range(n):\n",
        "            if i != j:\n",
        "                term *= (x - x_valores[j]) / (x_valores[i] - x_valores[j])\n",
        "        polinomio += term\n",
        "    return sp.simplify(polinomio)\n",
        "\n",
        "datos_x = [1, 2, 3]\n",
        "datos_y = [2, 3, 5]\n",
        "\n",
        "#Esta parte es la que calcula el polinomio de Lagrange\n",
        "polinomio = lagrange_interpolacion(datos_x, datos_y)\n",
        "print(\"Polinomio de Lagrange:\", polinomio)\n",
        "\n",
        "#Aqui se convertira el polinomio a una funcion numerica lista para graficar\n",
        "polinomio_func = sp.lambdify(x, polinomio, modules=['numpy'])\n",
        "x_vals = np.linspace(min(datos_x) - 1, max(datos_x) + 1, 100)\n",
        "y_vals = polinomio_func(x_vals)\n",
        "\n",
        "plt.plot(x_vals, y_vals, label='Polinomio de Lagrange')\n",
        "plt.scatter(datos_x, datos_y, color='red', label='Puntos dados')\n",
        "plt.legend()\n",
        "plt.xlabel('x')\n",
        "plt.ylabel('y')\n",
        "plt.title('Interpolacion de Lagrange')\n",
        "plt.grid()\n",
        "plt.show()"
      ]
    },
    {
      "cell_type": "markdown",
      "source": [
        "# Bibliotecas que se utilizaron para este programa\n",
        "\n",
        "```\n",
        "import sympy as sp\n",
        "import numpy as np\n",
        "import matplotlib.pyplot as plt\n",
        "from sympy.abc import x\n",
        "```\n",
        "\n"
      ],
      "metadata": {
        "id": "TjgCnPqj1BFO"
      }
    },
    {
      "cell_type": "markdown",
      "source": [
        "#Se definen los puntos de interpolacion los cuales son\n",
        "\n",
        "\n",
        "\n",
        "```\n",
        "x_datos y datos_y contienen los valores de los puntos dados\n",
        "```\n",
        "\n",
        "\n"
      ],
      "metadata": {
        "id": "y65tzpIK1L3B"
      }
    },
    {
      "cell_type": "markdown",
      "source": [
        "# Se define la variable la variable simbolica\n",
        "\n",
        "\n",
        "\n",
        "```\n",
        "x=sp.Symbol(`x´)  \n",
        "```\n",
        "Esto es para definir x como una variable simbolica en sympy\n"
      ],
      "metadata": {
        "id": "Zb9P2tt92xHp"
      }
    },
    {
      "cell_type": "markdown",
      "source": [
        "# Se obtiene y muestra el polinomio. Se simplifica con sp.simplify()\n",
        "\n",
        "\n",
        "\n",
        "```\n",
        "lagrange_interpolacion()\n",
        "\n",
        "```\n",
        "\n"
      ],
      "metadata": {
        "id": "l32JhK0DA-Jt"
      }
    },
    {
      "cell_type": "markdown",
      "source": [
        "# Conversion del polinomio en una funcion numerica\n",
        "\n",
        "\n",
        "```\n",
        "sp.lambdify() #convierte la expresion simbolica en una funcion evaluable con numpy\n",
        "```\n",
        "\n"
      ],
      "metadata": {
        "id": "xOqntp35CMVc"
      }
    },
    {
      "cell_type": "markdown",
      "source": [
        "# Graficacion\n",
        "\n",
        "* Se genaron los valores $x$ en un rango adecuado\n",
        "* Se evaluara el polinomio en esos puntos\n",
        "* Se grafica la funcion y se marcan los puntos originales\n",
        "\n",
        "\n",
        "\n",
        "\n",
        "\n"
      ],
      "metadata": {
        "id": "v7LfXHzaDYiA"
      }
    }
  ]
}