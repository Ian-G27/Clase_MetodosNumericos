{
  "nbformat": 4,
  "nbformat_minor": 0,
  "metadata": {
    "colab": {
      "provenance": [],
      "authorship_tag": "ABX9TyOdamWLY9LAB5Qw6WuT1X7/",
      "include_colab_link": true
    },
    "kernelspec": {
      "name": "python3",
      "display_name": "Python 3"
    },
    "language_info": {
      "name": "python"
    }
  },
  "cells": [
    {
      "cell_type": "markdown",
      "metadata": {
        "id": "view-in-github",
        "colab_type": "text"
      },
      "source": [
        "<a href=\"https://colab.research.google.com/github/Ian-G27/Clase_MetodosNumericos/blob/main/MetodoSecante.ipynb\" target=\"_parent\"><img src=\"https://colab.research.google.com/assets/colab-badge.svg\" alt=\"Open In Colab\"/></a>"
      ]
    },
    {
      "cell_type": "markdown",
      "source": [
        "Metodo de la secante"
      ],
      "metadata": {
        "id": "x5wv6NdW0Fji"
      }
    },
    {
      "cell_type": "code",
      "execution_count": null,
      "metadata": {
        "id": "gZX8bmqYrPPt"
      },
      "outputs": [],
      "source": [
        "from tabulate import tabulate\n",
        "\n",
        "def secant_method(f, p0, p1, tol, N0):\n",
        "    q0 = f(p0)\n",
        "    q1 = f(p1)\n",
        "    iterations = []\n",
        "    i = 2  #Comenzando en la iteracion 2\n",
        "    while i <= N0:\n",
        "        #Calculamos p usando la formula de la secante\n",
        "        p = p1 - q1 * (p1 - p0) / (q1 - q0)\n",
        "        #Agregamos a la tabla de iteraciones\n",
        "        iterations.append([i, p0, p1, q0, q1, p])\n",
        "        #Verificando si la diferencia es menor a la tolerancia\n",
        "        if abs(p - p1) < tol:\n",
        "            #Se imprimira la tablacon sus iteraciones\n",
        "            print(tabulate(iterations, headers=[\"Iteracion\", \"p0\", \"p1\", \"q0=f(p0)\", \"q1=f(p1)\", \"p\"]))\n",
        "            print(f\"\\nSolucion aproximada: {p} en {i} iteraciones\")\n",
        "            return p\n",
        "        #Se actualizaran los valores\n",
        "        p0, p1 = p1, p\n",
        "        q0, q1 = q1, f(p1)\n",
        "        i += 1\n",
        "    #Si se alcanza el numero maximo de iteraciones\n",
        "    print(tabulate(iterations, headers=[\"Iteracion\", \"p0\", \"p1\", \"q0=f(p0)\", \"q1=f(p1)\", \"p\"]))\n",
        "    print(f\"\\nEl metodo fallo despues de {N0} iteraciones\")\n",
        "    return None\n",
        "#Se Pediran los datos al usuario\n",
        "funcion = input(\"Ingrese la funcion f(x) en terminos de x (ejemplo: x**3 - 2*x + 1): \")\n",
        "p0 = float(input(\"Ingrese la primera aproximacion inicial p0: \"))\n",
        "p1 = float(input(\"Ingrese la segunda aproximacion inicial p1: \"))\n",
        "tol = float(input(\"Ingrese la tolerancia (ejemplo: 1e-5): \"))\n",
        "N0 = int(input(\"Ingrese el numero maximo de iteraciones N0: \"))\n",
        "#Convirtiendo la funcion ingresada por el usuario en una funcion de Python\n",
        "f = lambda x: eval(funcion)\n",
        "#Por ultimo se ejecutara el metodo de la secante\n",
        "secant_method(f, p0, p1, tol, N0)"
      ]
    }
  ]
}