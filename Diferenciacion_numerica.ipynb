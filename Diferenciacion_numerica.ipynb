{
  "nbformat": 4,
  "nbformat_minor": 0,
  "metadata": {
    "colab": {
      "provenance": [],
      "authorship_tag": "ABX9TyMoi6fO9h9dFZfaonpvThBP",
      "include_colab_link": true
    },
    "kernelspec": {
      "name": "python3",
      "display_name": "Python 3"
    },
    "language_info": {
      "name": "python"
    }
  },
  "cells": [
    {
      "cell_type": "markdown",
      "metadata": {
        "id": "view-in-github",
        "colab_type": "text"
      },
      "source": [
        "<a href=\"https://colab.research.google.com/github/Ian-G27/Clase_MetodosNumericos/blob/main/Diferenciacion_numerica.ipynb\" target=\"_parent\"><img src=\"https://colab.research.google.com/assets/colab-badge.svg\" alt=\"Open In Colab\"/></a>"
      ]
    },
    {
      "cell_type": "markdown",
      "source": [
        "# Diferenciación numérica\n",
        "\n",
        "Escribir un código en Python que implemente en sympy que implemente la:\n",
        "\n",
        "1. Fórmula del extremo de tres puntos\n",
        "2. Fórmula del punto medio de tres puntos\n",
        "3. Fórmula del punto medio de cinco puntos\n",
        "4. Fórmula del extremo de cinco puntos\n",
        "5. Fórmula del punto medio de la segunda derivada"
      ],
      "metadata": {
        "id": "vUsXW--8gw8K"
      }
    },
    {
      "cell_type": "code",
      "execution_count": null,
      "metadata": {
        "colab": {
          "base_uri": "https://localhost:8080/"
        },
        "id": "_XHA-HERgXhJ",
        "outputId": "dea88212-cdbd-42bd-f526-a8a6714c13e5"
      },
      "outputs": [
        {
          "output_type": "stream",
          "name": "stdout",
          "text": [
            "f'(2.0) exacta: 22.167168\n",
            "f''(2.0) exacta: 29.556224\n",
            "\n",
            ">> Primera derivada:\n",
            "  Extremo de tres puntos: 16.832945 | Abs: 5.33e+00 | Rel: 24.06%\n",
            "  Punto medio (h=0.1):    22.228790 | Abs: 6.16e-02 | Rel: 0.28%\n",
            "  Punto medio (h=0.2):    22.414162 | Abs: 2.47e-01 | Rel: 1.11%\n",
            "  Punto medio 5 puntos:   22.166999 | Abs: 1.69e-04 | Rel: 0.00%\n",
            "  Extremo de cinco pts:   16.938014 | Abs: 5.23e+00 | Rel: 23.59%\n",
            "\n",
            ">> Segunda derivada:\n",
            "  Punto medio seg. der:   29.593200 | Abs: 3.70e-02 | Rel: 0.13%\n"
          ]
        }
      ],
      "source": [
        "import sympy as sp\n",
        "\n",
        "# ---------- Tabla ----------\n",
        "tabla = {\n",
        "    1.8: 10.889365,\n",
        "    1.9: 12.703199,\n",
        "    2.0: 14.778112,\n",
        "    2.1: 17.148957,\n",
        "    2.2: 19.855030\n",
        "}\n",
        "\n",
        "# Paso\n",
        "h = 0.1\n",
        "\n",
        "# ---------- Funcion con redondeo ----------\n",
        "def fx(f_tabla, x):\n",
        "    return f_tabla[round(x, 1)]\n",
        "\n",
        "# ---------- Formulas ----------\n",
        "def extremo_tres(f_tabla, x0, h):\n",
        "    return (1 / (2*h)) * (-3*fx(f_tabla, x0) + 4*fx(f_tabla, x0 + h) - fx(f_tabla, x0 + 2*h))\n",
        "\n",
        "def punto_medio_tres(f_tabla, x0, h):\n",
        "    return (1 / (2*h)) * (fx(f_tabla, x0 + h) - fx(f_tabla, x0 - h))\n",
        "\n",
        "def punto_medio_cinco(f_tabla, x0, h):\n",
        "    return (1 / (12*h)) * (fx(f_tabla, x0 - 2*h) - 8*fx(f_tabla, x0 - h) + 8*fx(f_tabla, x0 + h) - fx(f_tabla, x0 + 2*h))\n",
        "\n",
        "def extremo_cinco(f_tabla, x0, h):\n",
        "    return (1 / (12*h)) * (-25*fx(f_tabla, x0) + 48*fx(f_tabla, x0 + h) - 36*fx(f_tabla, x0 + 2*h) + 16*fx(f_tabla, x0 + 3*h) - 3*fx(f_tabla, x0 + 4*h))\n",
        "\n",
        "def segunda_derivada_pmedio(f_tabla, x0, h):\n",
        "    return (fx(f_tabla, x0 - h) - 2*fx(f_tabla, x0) + fx(f_tabla, x0 + h)) / (h**2)\n",
        "\n",
        "# ---------- Derivada exacta ----------\n",
        "x = sp.Symbol('x')\n",
        "f = x * sp.exp(x)\n",
        "f1 = sp.diff(f, x)\n",
        "f2 = sp.diff(f1, x)\n",
        "\n",
        "valor_f1 = float(f1.subs(x, 2))\n",
        "valor_f2 = float(f2.subs(x, 2))\n",
        "\n",
        "# ---------- Aproximaciones ----------\n",
        "x0 = 2.0\n",
        "aprox_extremo_3 = extremo_tres(tabla, 1.8, h)\n",
        "aprox_pmedio_01 = punto_medio_tres(tabla, x0, h)\n",
        "aprox_pmedio_02 = punto_medio_tres(tabla, x0, 0.2)\n",
        "aprox_pmedio_5 = punto_medio_cinco(tabla, x0, h)\n",
        "aprox_extremo_5 = extremo_cinco(tabla, 1.8, h)\n",
        "aprox_segunda = segunda_derivada_pmedio(tabla, x0, h)\n",
        "\n",
        "# ---------- Errores ----------\n",
        "def calcular_errores(valor_aprox, valor_exacto):\n",
        "    err_abs = abs(valor_aprox - valor_exacto)\n",
        "    err_rel = err_abs / abs(valor_exacto)\n",
        "    return err_abs, err_rel\n",
        "\n",
        "err_ext3_abs, err_ext3_rel = calcular_errores(aprox_extremo_3, valor_f1)\n",
        "err_pm01_abs, err_pm01_rel = calcular_errores(aprox_pmedio_01, valor_f1)\n",
        "err_pm02_abs, err_pm02_rel = calcular_errores(aprox_pmedio_02, valor_f1)\n",
        "err_pm5_abs, err_pm5_rel = calcular_errores(aprox_pmedio_5, valor_f1)\n",
        "err_ext5_abs, err_ext5_rel = calcular_errores(aprox_extremo_5, valor_f1)\n",
        "err_seg2_abs, err_seg2_rel = calcular_errores(aprox_segunda, valor_f2)\n",
        "\n",
        "# ---------- Resultados ----------\n",
        "print(f\"f'(2.0) exacta: {valor_f1:.6f}\")\n",
        "print(f\"f''(2.0) exacta: {valor_f2:.6f}\\n\")\n",
        "\n",
        "print(\">> Primera derivada:\")\n",
        "print(f\"  Extremo de tres puntos: {aprox_extremo_3:.6f} | Abs: {err_ext3_abs:.2e} | Rel: {err_ext3_rel:.2%}\")\n",
        "print(f\"  Punto medio (h=0.1):    {aprox_pmedio_01:.6f} | Abs: {err_pm01_abs:.2e} | Rel: {err_pm01_rel:.2%}\")\n",
        "print(f\"  Punto medio (h=0.2):    {aprox_pmedio_02:.6f} | Abs: {err_pm02_abs:.2e} | Rel: {err_pm02_rel:.2%}\")\n",
        "print(f\"  Punto medio 5 puntos:   {aprox_pmedio_5:.6f} | Abs: {err_pm5_abs:.2e} | Rel: {err_pm5_rel:.2%}\")\n",
        "print(f\"  Extremo de cinco pts:   {aprox_extremo_5:.6f} | Abs: {err_ext5_abs:.2e} | Rel: {err_ext5_rel:.2%}\\n\")\n",
        "\n",
        "print(\">> Segunda derivada:\")\n",
        "print(f\"  Punto medio seg. der:   {aprox_segunda:.6f} | Abs: {err_seg2_abs:.2e} | Rel: {err_seg2_rel:.2%}\")"
      ]
    },
    {
      "cell_type": "markdown",
      "source": [
        "# Explicacion del codigo\n",
        "\n",
        "# 1. Importación de librerías\n",
        "\n",
        "\n",
        "\n",
        "```\n",
        "import sympy as sp\n",
        "\n",
        "\n",
        "```\n",
        "Se importa sympy, una librería de algebra simbolica que permite derivar funciones y evaluarlas de manera exacta.\n"
      ],
      "metadata": {
        "id": "QIcqrpV9ioJW"
      }
    },
    {
      "cell_type": "markdown",
      "source": [
        "# 2. Datos de la tabla\n",
        "\n",
        "\n",
        "\n",
        "```\n",
        "tabla = {\n",
        "    1.8: 10.889365,\n",
        "    1.9: 12.703199,\n",
        "    2.0: 14.778112,\n",
        "    2.1: 17.148957,\n",
        "    2.2: 19.855030\n",
        "}\n",
        "\n",
        "```\n",
        "Aquí se definen los valores de la tabla (los valores de $f(x)=xeˣ )$ evaluados en 5 puntos distintos.\n"
      ],
      "metadata": {
        "id": "hHAoxID2j2PO"
      }
    },
    {
      "cell_type": "markdown",
      "source": [
        "# 3. Acceso al redondeo para la tabla\n",
        "\n",
        "\n",
        "\n",
        "```\n",
        "def fx(f_tabla, x):\n",
        "    return f_tabla[round(x, 1)]\n",
        "\n",
        "```\n",
        "\n",
        "Esta funcion se asegura de que al buscar x, se redondee al primer decimal para evitar errores por flotantes. Por ejemplo, si pido fx(tabla, 2.0000000001) se redondea a 2.0\n"
      ],
      "metadata": {
        "id": "SpRAnZl1k7Df"
      }
    },
    {
      "cell_type": "markdown",
      "source": [
        "# 4. Formulas para derivadas\n",
        "\n",
        "Estas son funciones que implementan las formulas numericas:\n",
        "\n",
        "a. Extremo de tres puntos\n",
        "\n",
        "\n",
        "```\n",
        "(1 / (2*h)) * (-3f(x0) + 4f(x0+h) - f(x0+2h))\n",
        "\n",
        "```\n",
        "\n",
        "\n",
        "b. Punto medio de tres puntos\n",
        "\n",
        "\n",
        "```\n",
        "(1 / (2*h)) * (f(x0 + h) - f(x0 - h))\n",
        "\n",
        "```\n",
        "\n",
        "\n",
        "c. Punto medio de cinco puntos\n",
        "\n",
        "\n",
        "```\n",
        "(1 / (12*h)) * [f(x0 - 2h) - 8f(x0 - h) + 8f(x0 + h) - f(x0 + 2h)]\n",
        "\n",
        "```\n",
        "\n",
        "\n",
        "d. Extremo de cinco puntos\n",
        "\n",
        "\n",
        "```\n",
        "(1 / (12*h)) * [-25f(x0) + 48f(x0+h) - 36f(x0+2h) + 16f(x0+3h) - 3f(x0+4h)]\n",
        "\n",
        "```\n",
        "\n",
        "\n",
        "e. Segunda derivada con punto medio\n",
        "\n",
        "\n",
        "```\n",
        "(f(x0-h) - 2f(x0) + f(x0+h)) / h²\n",
        "\n",
        "```\n",
        "\n",
        "\n"
      ],
      "metadata": {
        "id": "cXaWifOplfSy"
      }
    },
    {
      "cell_type": "markdown",
      "source": [
        "# 5. Calculo simbolico de sympy\n",
        "\n",
        "\n",
        "\n",
        "```\n",
        "x = sp.Symbol('x')\n",
        "f = x * sp.exp(x)\n",
        "f1 = sp.diff(f, x)       # Primera derivada\n",
        "f2 = sp.diff(f1, x)      # Segunda derivada\n",
        "valor_f1 = float(f1.subs(x, 2))  # Evaluación en x=2\n",
        "valor_f2 = float(f2.subs(x, 2))\n",
        "\n",
        "```\n",
        "\n",
        "Se define simbólicamente la función\n",
        "$f(x)=xeˣ$, y se derivan $f′(x)$ y $f′′(x)$, evaluando ambos en $x=2$"
      ],
      "metadata": {
        "id": "X4Z2_OBNm21R"
      }
    },
    {
      "cell_type": "markdown",
      "source": [
        "# 6. Calculo de aproximaciones\n",
        "\n",
        "Se calculan las derivadas con todas las fórmulas implementadas en el codigo\n",
        "\n",
        "```\n",
        "x0 = 2.0\n",
        "aprox_extremo_3 = extremo_tres(tabla, 1.8, h)  # Se usa desde 1.8\n",
        "aprox_pmedio_01 = punto_medio_tres(tabla, x0, h)\n",
        "aprox_pmedio_02 = punto_medio_tres(tabla, x0, 0.2)\n",
        "aprox_pmedio_5 = punto_medio_cinco(tabla, x0, h)\n",
        "aprox_extremo_5 = extremo_cinco(tabla, 1.8, h)\n",
        "aprox_segunda = segunda_derivada_pmedio(tabla, x0, h)\n",
        "\n",
        "```\n",
        "\n"
      ],
      "metadata": {
        "id": "vUFQfR19nutc"
      }
    },
    {
      "cell_type": "markdown",
      "source": [
        "# 7. Errores abolutos y relativos\n",
        "Error absoluto: Diferencia directa\n",
        "\n",
        "Error relativo: Diferencia relativa porcentual\n",
        "\n",
        "```\n",
        "def calcular_errores(valor_aprox, valor_exacto):\n",
        "    err_abs = abs(valor_aprox - valor_exacto)\n",
        "    err_rel = err_abs / abs(valor_exacto)\n",
        "    return err_abs, err_rel\n",
        "\n",
        "```"
      ],
      "metadata": {
        "id": "KJIkwbtIoMWQ"
      }
    },
    {
      "cell_type": "markdown",
      "source": [
        "# 8. Por ultimo se muestran los resultados\n",
        "Por ultimo se imprimen todas las aproximaciones y sus errores, organizados en bloques:\n",
        "\n",
        "Primera derivada con varias fórmulas.\n",
        "\n",
        "Segunda derivada usando la fórmula del punto medio.\n",
        "\n",
        "\n",
        "```\n",
        "print(f\"f'(2.0) exacta: {valor_f1:.6f}\")\n",
        "...\n",
        "print(f\"  Extremo de tres puntos: {aprox_extremo_3:.6f} | Abs: {err_ext3_abs:.2e} | Rel: {err_ext3_rel:.2%}\")\n",
        "\n",
        "```\n",
        "\n"
      ],
      "metadata": {
        "id": "earc5xnKoqus"
      }
    }
  ]
}